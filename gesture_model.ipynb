{
 "cells": [
  {
   "cell_type": "code",
   "execution_count": 14,
   "metadata": {},
   "outputs": [],
   "source": [
    "import keras\n",
    "import pandas as pd\n",
    "from keras import layers, Sequential\n",
    "import argparse\n",
    "from sklearn.model_selection import train_test_split\n",
    "from matplotlib import pyplot as plt\n",
    "import os\n",
    "from keras.callbacks import ModelCheckpoint,EarlyStopping\n",
    "from keras.models import Model, Sequential\n",
    "from keras.layers import Dense, Input, Dropout, GlobalAveragePooling2D, Flatten, Conv2D, BatchNormalization, Activation, MaxPooling2D\n",
    "from keras.optimizers import Adam, SGD, RMSprop"
   ]
  },
  {
   "cell_type": "code",
   "execution_count": 27,
   "metadata": {},
   "outputs": [],
   "source": [
    "df = pd.read_csv('gesture_data.csv')\n",
    "x = df.copy()\n",
    "y = x.pop('class')\n",
    "y, class_list = y.factorize()\n",
    "x = x.astype('float64')\n",
    "y = keras.utils.to_categorical(y)\n",
    "\n",
    "x_train, x_test, y_train, y_test = train_test_split(x, y,\n",
    "                                                    test_size=0.2,\n",
    "                                                    random_state=0)"
   ]
  },
  {
   "cell_type": "code",
   "execution_count": 16,
   "metadata": {},
   "outputs": [],
   "source": [
    "Model_Checkpoint_Callback = ModelCheckpoint('gesture_model.h5', \n",
    "                                            monitor='val_accuracy', \n",
    "                                            verbose=1, \n",
    "                                            save_best_only=True, \n",
    "                                            mode='max',\n",
    "                                            save_freq = \"epoch\")\n",
    "Early_Stop = EarlyStopping(monitor='val_accuracy',\n",
    "                              patience=10)"
   ]
  },
  {
   "cell_type": "code",
   "execution_count": 21,
   "metadata": {},
   "outputs": [
    {
     "name": "stderr",
     "output_type": "stream",
     "text": [
      "WARNING:absl:`lr` is deprecated in Keras optimizer, please use `learning_rate` or use the legacy optimizer, e.g.,tf.keras.optimizers.legacy.Adam.\n"
     ]
    },
    {
     "name": "stdout",
     "output_type": "stream",
     "text": [
      "Epoch 1/100\n",
      " 94/102 [==========================>...] - ETA: 0s - loss: 0.8609 - accuracy: 0.6908\n",
      "Epoch 1: val_accuracy improved from -inf to 0.86946, saving model to gesture_model.h5\n",
      "102/102 [==============================] - 2s 10ms/step - loss: 0.8289 - accuracy: 0.7024 - val_loss: 0.3313 - val_accuracy: 0.8695\n",
      "Epoch 2/100\n",
      " 30/102 [=======>......................] - ETA: 0s - loss: 0.3151 - accuracy: 0.8833"
     ]
    },
    {
     "name": "stderr",
     "output_type": "stream",
     "text": [
      "C:\\Users\\Tommy\\AppData\\Roaming\\Python\\Python38\\site-packages\\keras\\src\\engine\\training.py:3000: UserWarning: You are saving your model as an HDF5 file via `model.save()`. This file format is considered legacy. We recommend using instead the native Keras format, e.g. `model.save('my_model.keras')`.\n",
      "  saving_api.save_model(\n"
     ]
    },
    {
     "name": "stdout",
     "output_type": "stream",
     "text": [
      " 89/102 [=========================>....] - ETA: 0s - loss: 0.2436 - accuracy: 0.9136\n",
      "Epoch 2: val_accuracy improved from 0.86946 to 0.93350, saving model to gesture_model.h5\n",
      "102/102 [==============================] - 1s 6ms/step - loss: 0.2403 - accuracy: 0.9150 - val_loss: 0.1824 - val_accuracy: 0.9335\n",
      "Epoch 3/100\n",
      " 88/102 [========================>.....] - ETA: 0s - loss: 0.1488 - accuracy: 0.9574\n",
      "Epoch 3: val_accuracy improved from 0.93350 to 0.95320, saving model to gesture_model.h5\n",
      "102/102 [==============================] - 1s 5ms/step - loss: 0.1401 - accuracy: 0.9593 - val_loss: 0.1071 - val_accuracy: 0.9532\n",
      "Epoch 4/100\n",
      " 93/102 [==========================>...] - ETA: 0s - loss: 0.0864 - accuracy: 0.9738\n",
      "Epoch 4: val_accuracy improved from 0.95320 to 0.96552, saving model to gesture_model.h5\n",
      "102/102 [==============================] - 1s 8ms/step - loss: 0.0829 - accuracy: 0.9754 - val_loss: 0.0750 - val_accuracy: 0.9655\n",
      "Epoch 5/100\n",
      "101/102 [============================>.] - ETA: 0s - loss: 0.0470 - accuracy: 0.9882\n",
      "Epoch 5: val_accuracy improved from 0.96552 to 0.98768, saving model to gesture_model.h5\n",
      "102/102 [==============================] - 1s 6ms/step - loss: 0.0469 - accuracy: 0.9883 - val_loss: 0.0490 - val_accuracy: 0.9877\n",
      "Epoch 6/100\n",
      " 94/102 [==========================>...] - ETA: 0s - loss: 0.0432 - accuracy: 0.9887\n",
      "Epoch 6: val_accuracy improved from 0.98768 to 0.99507, saving model to gesture_model.h5\n",
      "102/102 [==============================] - 1s 7ms/step - loss: 0.0429 - accuracy: 0.9889 - val_loss: 0.0238 - val_accuracy: 0.9951\n",
      "Epoch 7/100\n",
      " 88/102 [========================>.....] - ETA: 0s - loss: 0.0401 - accuracy: 0.9886\n",
      "Epoch 7: val_accuracy did not improve from 0.99507\n",
      "102/102 [==============================] - 0s 4ms/step - loss: 0.0374 - accuracy: 0.9901 - val_loss: 0.0224 - val_accuracy: 0.9951\n",
      "Epoch 8/100\n",
      " 86/102 [========================>.....] - ETA: 0s - loss: 0.0227 - accuracy: 0.9935\n",
      "Epoch 8: val_accuracy did not improve from 0.99507\n",
      "102/102 [==============================] - 0s 4ms/step - loss: 0.0235 - accuracy: 0.9938 - val_loss: 0.0148 - val_accuracy: 0.9951\n",
      "Epoch 9/100\n",
      " 93/102 [==========================>...] - ETA: 0s - loss: 0.0474 - accuracy: 0.9825\n",
      "Epoch 9: val_accuracy did not improve from 0.99507\n",
      "102/102 [==============================] - 1s 6ms/step - loss: 0.0474 - accuracy: 0.9827 - val_loss: 0.0530 - val_accuracy: 0.9803\n",
      "Epoch 10/100\n",
      " 98/102 [===========================>..] - ETA: 0s - loss: 0.0412 - accuracy: 0.9879\n",
      "Epoch 10: val_accuracy did not improve from 0.99507\n",
      "102/102 [==============================] - 0s 5ms/step - loss: 0.0401 - accuracy: 0.9883 - val_loss: 0.0243 - val_accuracy: 0.9926\n",
      "Epoch 11/100\n",
      " 99/102 [============================>.] - ETA: 0s - loss: 0.0152 - accuracy: 0.9968\n",
      "Epoch 11: val_accuracy improved from 0.99507 to 1.00000, saving model to gesture_model.h5\n",
      "102/102 [==============================] - 1s 8ms/step - loss: 0.0158 - accuracy: 0.9963 - val_loss: 0.0086 - val_accuracy: 1.0000\n",
      "Epoch 12/100\n",
      " 96/102 [===========================>..] - ETA: 0s - loss: 0.0187 - accuracy: 0.9941\n",
      "Epoch 12: val_accuracy did not improve from 1.00000\n",
      "102/102 [==============================] - 1s 5ms/step - loss: 0.0188 - accuracy: 0.9938 - val_loss: 0.0078 - val_accuracy: 1.0000\n",
      "Epoch 13/100\n",
      " 95/102 [==========================>...] - ETA: 0s - loss: 0.0208 - accuracy: 0.9921\n",
      "Epoch 13: val_accuracy did not improve from 1.00000\n",
      "102/102 [==============================] - 1s 7ms/step - loss: 0.0198 - accuracy: 0.9926 - val_loss: 0.0080 - val_accuracy: 1.0000\n",
      "Epoch 14/100\n",
      " 97/102 [===========================>..] - ETA: 0s - loss: 0.0096 - accuracy: 0.9974\n",
      "Epoch 14: val_accuracy did not improve from 1.00000\n",
      "102/102 [==============================] - 1s 6ms/step - loss: 0.0109 - accuracy: 0.9969 - val_loss: 0.0295 - val_accuracy: 0.9852\n",
      "Epoch 15/100\n",
      "102/102 [==============================] - ETA: 0s - loss: 0.0290 - accuracy: 0.9883\n",
      "Epoch 15: val_accuracy did not improve from 1.00000\n",
      "102/102 [==============================] - 1s 7ms/step - loss: 0.0290 - accuracy: 0.9883 - val_loss: 0.0091 - val_accuracy: 0.9951\n",
      "Epoch 16/100\n",
      " 97/102 [===========================>..] - ETA: 0s - loss: 0.0108 - accuracy: 0.9955\n",
      "Epoch 16: val_accuracy did not improve from 1.00000\n",
      "102/102 [==============================] - 1s 6ms/step - loss: 0.0129 - accuracy: 0.9945 - val_loss: 0.0031 - val_accuracy: 1.0000\n",
      "Epoch 17/100\n",
      "102/102 [==============================] - ETA: 0s - loss: 0.0255 - accuracy: 0.9920\n",
      "Epoch 17: val_accuracy did not improve from 1.00000\n",
      "102/102 [==============================] - 1s 7ms/step - loss: 0.0255 - accuracy: 0.9920 - val_loss: 0.0190 - val_accuracy: 0.9901\n",
      "Epoch 18/100\n",
      " 99/102 [============================>.] - ETA: 0s - loss: 0.0091 - accuracy: 0.9962\n",
      "Epoch 18: val_accuracy did not improve from 1.00000\n",
      "102/102 [==============================] - 0s 5ms/step - loss: 0.0098 - accuracy: 0.9957 - val_loss: 0.0111 - val_accuracy: 0.9951\n",
      "Epoch 19/100\n",
      " 95/102 [==========================>...] - ETA: 0s - loss: 0.0540 - accuracy: 0.9888\n",
      "Epoch 19: val_accuracy did not improve from 1.00000\n",
      "102/102 [==============================] - 1s 5ms/step - loss: 0.0509 - accuracy: 0.9895 - val_loss: 0.0105 - val_accuracy: 0.9975\n",
      "Epoch 20/100\n",
      "101/102 [============================>.] - ETA: 0s - loss: 0.0060 - accuracy: 0.9981\n",
      "Epoch 20: val_accuracy did not improve from 1.00000\n",
      "102/102 [==============================] - 1s 6ms/step - loss: 0.0060 - accuracy: 0.9982 - val_loss: 0.0035 - val_accuracy: 1.0000\n",
      "Epoch 21/100\n",
      "100/102 [============================>.] - ETA: 0s - loss: 0.0134 - accuracy: 0.9950\n",
      "Epoch 21: val_accuracy did not improve from 1.00000\n",
      "102/102 [==============================] - 1s 7ms/step - loss: 0.0134 - accuracy: 0.9951 - val_loss: 0.2787 - val_accuracy: 0.9409\n",
      "Epoch 22/100\n",
      " 95/102 [==========================>...] - ETA: 0s - loss: 0.0249 - accuracy: 0.9914\n",
      "Epoch 22: val_accuracy did not improve from 1.00000\n",
      "102/102 [==============================] - 1s 6ms/step - loss: 0.0234 - accuracy: 0.9920 - val_loss: 0.0021 - val_accuracy: 1.0000\n",
      "Epoch 23/100\n",
      "102/102 [==============================] - ETA: 0s - loss: 0.0035 - accuracy: 0.9994\n",
      "Epoch 23: val_accuracy did not improve from 1.00000\n",
      "102/102 [==============================] - 1s 5ms/step - loss: 0.0035 - accuracy: 0.9994 - val_loss: 0.0034 - val_accuracy: 0.9975\n",
      "Epoch 24/100\n",
      "102/102 [==============================] - ETA: 0s - loss: 0.0038 - accuracy: 0.9988\n",
      "Epoch 24: val_accuracy did not improve from 1.00000\n",
      "102/102 [==============================] - 1s 6ms/step - loss: 0.0038 - accuracy: 0.9988 - val_loss: 0.0010 - val_accuracy: 1.0000\n",
      "Epoch 25/100\n",
      " 95/102 [==========================>...] - ETA: 0s - loss: 0.0031 - accuracy: 0.9993\n",
      "Epoch 25: val_accuracy did not improve from 1.00000\n",
      "102/102 [==============================] - 1s 5ms/step - loss: 0.0030 - accuracy: 0.9994 - val_loss: 0.0011 - val_accuracy: 1.0000\n",
      "Epoch 26/100\n",
      " 97/102 [===========================>..] - ETA: 0s - loss: 0.0083 - accuracy: 0.9968\n",
      "Epoch 26: val_accuracy did not improve from 1.00000\n",
      "102/102 [==============================] - 1s 7ms/step - loss: 0.0080 - accuracy: 0.9969 - val_loss: 0.0016 - val_accuracy: 1.0000\n",
      "Epoch 27/100\n",
      " 99/102 [============================>.] - ETA: 0s - loss: 0.0010 - accuracy: 1.0000    \n",
      "Epoch 27: val_accuracy did not improve from 1.00000\n",
      "102/102 [==============================] - 0s 4ms/step - loss: 9.8860e-04 - accuracy: 1.0000 - val_loss: 0.0013 - val_accuracy: 1.0000\n",
      "Epoch 28/100\n",
      " 92/102 [==========================>...] - ETA: 0s - loss: 0.0011 - accuracy: 1.0000    \n",
      "Epoch 28: val_accuracy did not improve from 1.00000\n",
      "102/102 [==============================] - 1s 7ms/step - loss: 0.0012 - accuracy: 1.0000 - val_loss: 4.4345e-04 - val_accuracy: 1.0000\n",
      "Epoch 29/100\n",
      " 92/102 [==========================>...] - ETA: 0s - loss: 0.0045 - accuracy: 0.9986\n",
      "Epoch 29: val_accuracy did not improve from 1.00000\n",
      "102/102 [==============================] - 1s 5ms/step - loss: 0.0041 - accuracy: 0.9988 - val_loss: 4.7395e-04 - val_accuracy: 1.0000\n",
      "Epoch 30/100\n",
      "102/102 [==============================] - ETA: 0s - loss: 6.7328e-04 - accuracy: 1.0000\n",
      "Epoch 30: val_accuracy did not improve from 1.00000\n",
      "102/102 [==============================] - 0s 5ms/step - loss: 6.7328e-04 - accuracy: 1.0000 - val_loss: 3.5583e-04 - val_accuracy: 1.0000\n",
      "Epoch 31/100\n",
      "101/102 [============================>.] - ETA: 0s - loss: 3.0807e-04 - accuracy: 1.0000\n",
      "Epoch 31: val_accuracy did not improve from 1.00000\n",
      "102/102 [==============================] - 1s 7ms/step - loss: 3.0720e-04 - accuracy: 1.0000 - val_loss: 3.3801e-04 - val_accuracy: 1.0000\n"
     ]
    }
   ],
   "source": [
    "model = Sequential()\n",
    "model.add(Input(shape=(92)))\n",
    "model.add(Dense(512))\n",
    "model.add(Activation('relu'))\n",
    "\n",
    "model.add(Dense(256))\n",
    "model.add(Activation('relu'))\n",
    "\n",
    "model.add(Dense(6, activation='softmax'))\n",
    "\n",
    "model.compile(optimizer=Adam(lr=0.001), loss='categorical_crossentropy', metrics=['accuracy'])\n",
    "history = model.fit(x_train,y_train,\n",
    "                    batch_size=16,\n",
    "                    epochs=100,\n",
    "                    validation_data=(x_test, y_test),\n",
    "                    callbacks=[Model_Checkpoint_Callback,Early_Stop])"
   ]
  },
  {
   "cell_type": "code",
   "execution_count": 23,
   "metadata": {},
   "outputs": [
    {
     "name": "stdout",
     "output_type": "stream",
     "text": [
      "13/13 [==============================] - 0s 3ms/step\n",
      "Confusion Matrix\n",
      "[[50  0  0  0  0  0]\n",
      " [ 0 78  0  0  0  0]\n",
      " [ 0  0 53  0  0  0]\n",
      " [ 0  0  0 87  0  0]\n",
      " [ 0  0  0  0 58  0]\n",
      " [ 0  0  0  0  0 80]]\n"
     ]
    }
   ],
   "source": [
    "from sklearn.metrics import classification_report, confusion_matrix\n",
    "from keras.models import load_model\n",
    "import numpy as np\n",
    "model_test = load_model(\"gesture_model.h5\")\n",
    "y_pred = model_test.predict(x_test)\n",
    "y_pred = np.argmax(y_pred, axis = 1)\n",
    "y_test=np.argmax(y_test, axis=1)\n",
    "print('Confusion Matrix')\n",
    "print(confusion_matrix(y_test, y_pred))"
   ]
  },
  {
   "cell_type": "code",
   "execution_count": 25,
   "metadata": {},
   "outputs": [
    {
     "name": "stdout",
     "output_type": "stream",
     "text": [
      "Classification Report\n",
      "                  precision    recall  f1-score   support\n",
      "\n",
      "   crossing_arms       1.00      1.00      1.00        50\n",
      "crossing_fingers       1.00      1.00      1.00        78\n",
      "  netural&others       1.00      1.00      1.00        53\n",
      "  touching_faces       1.00      1.00      1.00        87\n",
      "    touching_jaw       1.00      1.00      1.00        58\n",
      "   touching_neck       1.00      1.00      1.00        80\n",
      "\n",
      "        accuracy                           1.00       406\n",
      "       macro avg       1.00      1.00      1.00       406\n",
      "    weighted avg       1.00      1.00      1.00       406\n",
      "\n"
     ]
    }
   ],
   "source": [
    "print('Classification Report')\n",
    "print(classification_report(y_test, y_pred, target_names=class_list))"
   ]
  }
 ],
 "metadata": {
  "kernelspec": {
   "display_name": "Python 3",
   "language": "python",
   "name": "python3"
  },
  "language_info": {
   "codemirror_mode": {
    "name": "ipython",
    "version": 3
   },
   "file_extension": ".py",
   "mimetype": "text/x-python",
   "name": "python",
   "nbconvert_exporter": "python",
   "pygments_lexer": "ipython3",
   "version": "3.8.10"
  }
 },
 "nbformat": 4,
 "nbformat_minor": 2
}
