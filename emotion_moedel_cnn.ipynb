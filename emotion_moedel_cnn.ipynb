{
 "cells": [
  {
   "cell_type": "markdown",
   "metadata": {},
   "source": [
    "Import Library"
   ]
  },
  {
   "cell_type": "code",
   "execution_count": 1,
   "metadata": {},
   "outputs": [],
   "source": [
    "import numpy as np\n",
    "import cv2\n",
    "import pandas as pd\n",
    "import seaborn as sns\n",
    "import os\n",
    "from keras.models import Model, Sequential\n",
    "from keras.layers import Dense, Input, Dropout, GlobalAveragePooling2D, Flatten, Conv2D, BatchNormalization, Activation, MaxPooling2D\n",
    "from keras.optimizers import Adam, SGD, RMSprop\n",
    "from keras.preprocessing.image import ImageDataGenerator\n",
    "import matplotlib.pyplot as plt\n",
    "from keras.preprocessing.image import load_img, img_to_array\n",
    "from keras.preprocessing.image import ImageDataGenerator\n",
    "from keras.callbacks import ModelCheckpoint,ReduceLROnPlateau\n",
    "import scipy"
   ]
  },
  {
   "cell_type": "markdown",
   "metadata": {},
   "source": [
    "Create Data Generator"
   ]
  },
  {
   "cell_type": "code",
   "execution_count": 2,
   "metadata": {},
   "outputs": [
    {
     "name": "stdout",
     "output_type": "stream",
     "text": [
      "Found 28709 images belonging to 7 classes.\n",
      "Found 3589 images belonging to 7 classes.\n",
      "Found 3589 images belonging to 7 classes.\n"
     ]
    }
   ],
   "source": [
    "train_dir = 'data/train'\n",
    "val_dir = 'data/val'\n",
    "test_dir= 'data/test/'\n",
    "\n",
    "num_train = 28709\n",
    "num_val = 3589\n",
    "num_test = 3589\n",
    "batch_size = 128\n",
    "num_epoch = 20\n",
    "\n",
    "data_gen = ImageDataGenerator(rescale=1./255)\n",
    "train_generator= data_gen.flow_from_directory(train_dir,\n",
    "                                    target_size=(48, 48),\n",
    "                                    batch_size=batch_size,\n",
    "                                    shuffle=True,\n",
    "                                    color_mode=\"grayscale\",\n",
    "                                    class_mode='categorical')\n",
    "\n",
    "validation_generator = ImageDataGenerator(rescale=1./255).flow_from_directory(\n",
    "        val_dir,\n",
    "        target_size=(48, 48),\n",
    "        batch_size=batch_size,\n",
    "        shuffle=False,\n",
    "        color_mode=\"grayscale\",\n",
    "        class_mode='categorical')\n",
    "\n",
    "test_generator = ImageDataGenerator(rescale=1./255).flow_from_directory(\n",
    "        test_dir,\n",
    "        target_size=(48, 48),\n",
    "        batch_size=batch_size,\n",
    "        shuffle=False,\n",
    "        color_mode=\"grayscale\",\n",
    "        class_mode='categorical')"
   ]
  },
  {
   "cell_type": "code",
   "execution_count": 3,
   "metadata": {},
   "outputs": [],
   "source": [
    "Model_Checkpoint_Callback = ModelCheckpoint('model.h5', \n",
    "                                            monitor='val_accuracy', \n",
    "                                            verbose=1, \n",
    "                                            save_best_only=True, \n",
    "                                            mode='max',\n",
    "                                            save_freq = \"epoch\")"
   ]
  },
  {
   "cell_type": "markdown",
   "metadata": {},
   "source": [
    "Model Building"
   ]
  },
  {
   "cell_type": "code",
   "execution_count": 4,
   "metadata": {},
   "outputs": [
    {
     "name": "stderr",
     "output_type": "stream",
     "text": [
      "WARNING:absl:`lr` is deprecated in Keras optimizer, please use `learning_rate` or use the legacy optimizer, e.g.,tf.keras.optimizers.legacy.Adam.\n",
      "C:\\Users\\Tommy\\AppData\\Local\\Temp\\ipykernel_24116\\3589193558.py:34: UserWarning: `Model.fit_generator` is deprecated and will be removed in a future version. Please use `Model.fit`, which supports generators.\n",
      "  history = model.fit_generator(generator=train_generator,\n"
     ]
    },
    {
     "name": "stdout",
     "output_type": "stream",
     "text": [
      "Epoch 1/20\n",
      "224/224 [==============================] - ETA: 0s - loss: 1.8077 - accuracy: 0.2976\n",
      "Epoch 1: val_accuracy improved from -inf to 0.24526, saving model to model.h5\n",
      "224/224 [==============================] - 254s 1s/step - loss: 1.8077 - accuracy: 0.2976 - val_loss: 1.9861 - val_accuracy: 0.2453\n",
      "Epoch 2/20\n"
     ]
    },
    {
     "name": "stderr",
     "output_type": "stream",
     "text": [
      "C:\\Users\\Tommy\\AppData\\Roaming\\Python\\Python38\\site-packages\\keras\\src\\engine\\training.py:3000: UserWarning: You are saving your model as an HDF5 file via `model.save()`. This file format is considered legacy. We recommend using instead the native Keras format, e.g. `model.save('my_model.keras')`.\n",
      "  saving_api.save_model(\n"
     ]
    },
    {
     "name": "stdout",
     "output_type": "stream",
     "text": [
      "224/224 [==============================] - ETA: 0s - loss: 1.3920 - accuracy: 0.4617\n",
      "Epoch 2: val_accuracy improved from 0.24526 to 0.41825, saving model to model.h5\n",
      "224/224 [==============================] - 251s 1s/step - loss: 1.3920 - accuracy: 0.4617 - val_loss: 1.4844 - val_accuracy: 0.4182\n",
      "Epoch 3/20\n",
      "224/224 [==============================] - ETA: 0s - loss: 1.2043 - accuracy: 0.5408\n",
      "Epoch 3: val_accuracy improved from 0.41825 to 0.49079, saving model to model.h5\n",
      "224/224 [==============================] - 253s 1s/step - loss: 1.2043 - accuracy: 0.5408 - val_loss: 1.3139 - val_accuracy: 0.4908\n",
      "Epoch 4/20\n",
      "224/224 [==============================] - ETA: 0s - loss: 1.0766 - accuracy: 0.5952\n",
      "Epoch 4: val_accuracy improved from 0.49079 to 0.53404, saving model to model.h5\n",
      "224/224 [==============================] - 252s 1s/step - loss: 1.0766 - accuracy: 0.5952 - val_loss: 1.2067 - val_accuracy: 0.5340\n",
      "Epoch 5/20\n",
      "224/224 [==============================] - ETA: 0s - loss: 0.9817 - accuracy: 0.6285\n",
      "Epoch 5: val_accuracy improved from 0.53404 to 0.59738, saving model to model.h5\n",
      "224/224 [==============================] - 253s 1s/step - loss: 0.9817 - accuracy: 0.6285 - val_loss: 1.0902 - val_accuracy: 0.5974\n",
      "Epoch 6/20\n",
      "224/224 [==============================] - ETA: 0s - loss: 0.8771 - accuracy: 0.6702\n",
      "Epoch 6: val_accuracy did not improve from 0.59738\n",
      "224/224 [==============================] - 254s 1s/step - loss: 0.8771 - accuracy: 0.6702 - val_loss: 1.3040 - val_accuracy: 0.5285\n",
      "Epoch 7/20\n",
      "224/224 [==============================] - ETA: 0s - loss: 0.7715 - accuracy: 0.7133\n",
      "Epoch 7: val_accuracy did not improve from 0.59738\n",
      "224/224 [==============================] - 252s 1s/step - loss: 0.7715 - accuracy: 0.7133 - val_loss: 1.2781 - val_accuracy: 0.5703\n",
      "Epoch 8/20\n",
      "224/224 [==============================] - ETA: 0s - loss: 0.6255 - accuracy: 0.7706\n",
      "Epoch 8: val_accuracy did not improve from 0.59738\n",
      "224/224 [==============================] - 255s 1s/step - loss: 0.6255 - accuracy: 0.7706 - val_loss: 1.2366 - val_accuracy: 0.5935\n",
      "Epoch 9/20\n",
      "224/224 [==============================] - ETA: 0s - loss: 0.5087 - accuracy: 0.8120\n",
      "Epoch 9: val_accuracy did not improve from 0.59738\n",
      "224/224 [==============================] - 256s 1s/step - loss: 0.5087 - accuracy: 0.8120 - val_loss: 1.2903 - val_accuracy: 0.5645\n",
      "Epoch 10/20\n",
      "224/224 [==============================] - ETA: 0s - loss: 0.3783 - accuracy: 0.8632\n",
      "Epoch 10: val_accuracy did not improve from 0.59738\n",
      "224/224 [==============================] - 257s 1s/step - loss: 0.3783 - accuracy: 0.8632 - val_loss: 3.4013 - val_accuracy: 0.4009\n",
      "Epoch 11/20\n",
      "224/224 [==============================] - ETA: 0s - loss: 0.2754 - accuracy: 0.9028\n",
      "Epoch 11: val_accuracy did not improve from 0.59738\n",
      "224/224 [==============================] - 256s 1s/step - loss: 0.2754 - accuracy: 0.9028 - val_loss: 1.6331 - val_accuracy: 0.5871\n",
      "Epoch 12/20\n",
      "224/224 [==============================] - ETA: 0s - loss: 0.2024 - accuracy: 0.9311\n",
      "Epoch 12: val_accuracy did not improve from 0.59738\n",
      "224/224 [==============================] - 259s 1s/step - loss: 0.2024 - accuracy: 0.9311 - val_loss: 1.8965 - val_accuracy: 0.5776\n",
      "Epoch 13/20\n",
      "224/224 [==============================] - ETA: 0s - loss: 0.1682 - accuracy: 0.9426\n",
      "Epoch 13: val_accuracy did not improve from 0.59738\n",
      "224/224 [==============================] - 266s 1s/step - loss: 0.1682 - accuracy: 0.9426 - val_loss: 1.7771 - val_accuracy: 0.5879\n",
      "Epoch 14/20\n",
      "224/224 [==============================] - ETA: 0s - loss: 0.1447 - accuracy: 0.9504\n",
      "Epoch 14: val_accuracy did not improve from 0.59738\n",
      "224/224 [==============================] - 265s 1s/step - loss: 0.1447 - accuracy: 0.9504 - val_loss: 1.8077 - val_accuracy: 0.5890\n",
      "Epoch 15/20\n",
      "224/224 [==============================] - ETA: 0s - loss: 0.1037 - accuracy: 0.9676\n",
      "Epoch 15: val_accuracy did not improve from 0.59738\n",
      "224/224 [==============================] - 323s 1s/step - loss: 0.1037 - accuracy: 0.9676 - val_loss: 2.2161 - val_accuracy: 0.5831\n",
      "Epoch 16/20\n",
      "224/224 [==============================] - ETA: 0s - loss: 0.0949 - accuracy: 0.9712\n",
      "Epoch 16: val_accuracy did not improve from 0.59738\n",
      "224/224 [==============================] - 328s 1s/step - loss: 0.0949 - accuracy: 0.9712 - val_loss: 2.0042 - val_accuracy: 0.5921\n",
      "Epoch 17/20\n",
      "224/224 [==============================] - ETA: 0s - loss: 0.0946 - accuracy: 0.9699\n",
      "Epoch 17: val_accuracy did not improve from 0.59738\n",
      "224/224 [==============================] - 325s 1s/step - loss: 0.0946 - accuracy: 0.9699 - val_loss: 2.6641 - val_accuracy: 0.5449\n",
      "Epoch 18/20\n",
      "224/224 [==============================] - ETA: 0s - loss: 0.0712 - accuracy: 0.9774\n",
      "Epoch 18: val_accuracy did not improve from 0.59738\n",
      "224/224 [==============================] - 360s 2s/step - loss: 0.0712 - accuracy: 0.9774 - val_loss: 2.3129 - val_accuracy: 0.5915\n",
      "Epoch 19/20\n",
      "224/224 [==============================] - ETA: 0s - loss: 0.1253 - accuracy: 0.9581\n",
      "Epoch 19: val_accuracy did not improve from 0.59738\n",
      "224/224 [==============================] - 393s 2s/step - loss: 0.1253 - accuracy: 0.9581 - val_loss: 2.1942 - val_accuracy: 0.5709\n",
      "Epoch 20/20\n",
      "224/224 [==============================] - ETA: 0s - loss: 0.0855 - accuracy: 0.9717\n",
      "Epoch 20: val_accuracy improved from 0.59738 to 0.59989, saving model to model.h5\n",
      "224/224 [==============================] - 290s 1s/step - loss: 0.0855 - accuracy: 0.9717 - val_loss: 2.2292 - val_accuracy: 0.5999\n"
     ]
    }
   ],
   "source": [
    "model = Sequential()\n",
    "\n",
    "model.add(Conv2D(64,(3,3),padding = 'same',input_shape = (48,48,1)))\n",
    "model.add(BatchNormalization())\n",
    "model.add(Activation('relu'))\n",
    "model.add(MaxPooling2D(pool_size = (2,2)))\n",
    "\n",
    "model.add(Conv2D(128,(3,3),padding = 'same'))\n",
    "model.add(BatchNormalization())\n",
    "model.add(Activation('relu'))\n",
    "model.add(MaxPooling2D(pool_size = (2,2)))\n",
    "\n",
    "model.add(Conv2D(256,(3,3),padding = 'same'))\n",
    "model.add(BatchNormalization())\n",
    "model.add(Activation('relu'))\n",
    "model.add(MaxPooling2D(pool_size = (2,2)))\n",
    "\n",
    "model.add(Conv2D(512,(3,3),padding = 'same'))\n",
    "model.add(BatchNormalization())\n",
    "model.add(Activation('relu'))\n",
    "model.add(MaxPooling2D(pool_size = (2,2)))\n",
    "\n",
    "model.add(Flatten())\n",
    "\n",
    "model.add(Dense(256))\n",
    "model.add(Activation('relu'))\n",
    "\n",
    "model.add(Dense(512))\n",
    "model.add(Activation('relu'))\n",
    "\n",
    "model.add(Dense(7, activation='softmax'))\n",
    "\n",
    "model.compile(optimizer=Adam(lr=0.0001), loss='categorical_crossentropy', metrics=['accuracy'])\n",
    "history = model.fit_generator(generator=train_generator,\n",
    "                              steps_per_epoch=num_train//batch_size,\n",
    "                              epochs=num_epoch,\n",
    "                              validation_data=validation_generator,\n",
    "                              validation_steps=num_val//batch_size,\n",
    "                              callbacks=[Model_Checkpoint_Callback])"
   ]
  },
  {
   "cell_type": "markdown",
   "metadata": {},
   "source": [
    "Load Saved Model"
   ]
  },
  {
   "cell_type": "code",
   "execution_count": 5,
   "metadata": {},
   "outputs": [
    {
     "name": "stdout",
     "output_type": "stream",
     "text": [
      "29/29 [==============================] - 8s 255ms/step - loss: 2.3432 - accuracy: 0.5954\n"
     ]
    },
    {
     "data": {
      "text/plain": [
       "[2.3432228565216064, 0.5954304933547974]"
      ]
     },
     "execution_count": 5,
     "metadata": {},
     "output_type": "execute_result"
    }
   ],
   "source": [
    "from keras.models import load_model\n",
    "model_test=load_model('model.h5')\n",
    "model_test.evaluate(test_generator)"
   ]
  },
  {
   "cell_type": "markdown",
   "metadata": {},
   "source": [
    "Create Confusion Matrix"
   ]
  },
  {
   "cell_type": "code",
   "execution_count": 6,
   "metadata": {},
   "outputs": [
    {
     "name": "stderr",
     "output_type": "stream",
     "text": [
      "C:\\Users\\Tommy\\AppData\\Local\\Temp\\ipykernel_24116\\1426235422.py:5: UserWarning: `Model.predict_generator` is deprecated and will be removed in a future version. Please use `Model.predict`, which supports generators.\n",
      "  Y_pred = model_test.predict_generator(test_generator, num_test // batch_size+1)\n"
     ]
    },
    {
     "name": "stdout",
     "output_type": "stream",
     "text": [
      "Confusion Matrix\n",
      "[[183  12  80  41  68  78   5]\n",
      " [  7  30   7   3   3   6   0]\n",
      " [ 23   8 239  27  73 106  20]\n",
      " [ 18   3  27 710  90  36  11]\n",
      " [ 26   0  50  52 387  90   2]\n",
      " [ 42   4 105  38 145 313   6]\n",
      " [  9   1  68  26  23  13 275]]\n"
     ]
    }
   ],
   "source": [
    "from keras.models import load_model\n",
    "\n",
    "model_test = load_model(\"model.h5\")\n",
    "from sklearn.metrics import classification_report, confusion_matrix\n",
    "Y_pred = model_test.predict_generator(test_generator, num_test // batch_size+1)\n",
    "y_pred = np.argmax(Y_pred, axis=1)\n",
    "print('Confusion Matrix')\n",
    "cm=confusion_matrix(test_generator.classes, y_pred)\n",
    "print(cm)"
   ]
  },
  {
   "cell_type": "code",
   "execution_count": 7,
   "metadata": {},
   "outputs": [
    {
     "name": "stdout",
     "output_type": "stream",
     "text": [
      "Classification Report\n",
      "              precision    recall  f1-score   support\n",
      "\n",
      "       angry       0.59      0.39      0.47       467\n",
      "     disgust       0.52      0.54      0.53        56\n",
      "        fear       0.41      0.48      0.45       496\n",
      "       happy       0.79      0.79      0.79       895\n",
      "     neutral       0.49      0.64      0.55       607\n",
      "         sad       0.49      0.48      0.48       653\n",
      "    surprise       0.86      0.66      0.75       415\n",
      "\n",
      "    accuracy                           0.60      3589\n",
      "   macro avg       0.59      0.57      0.57      3589\n",
      "weighted avg       0.61      0.60      0.60      3589\n",
      "\n"
     ]
    }
   ],
   "source": [
    "print('Classification Report')\n",
    "target_names = list(train_generator.class_indices.keys())\n",
    "print(classification_report(test_generator.classes, y_pred, target_names=target_names))"
   ]
  },
  {
   "cell_type": "code",
   "execution_count": 8,
   "metadata": {},
   "outputs": [
    {
     "data": {
      "text/plain": [
       "Text(0.5, 100.22222222222219, 'Predicted label')"
      ]
     },
     "execution_count": 8,
     "metadata": {},
     "output_type": "execute_result"
    },
    {
     "data": {
      "image/png": "[encoded data removed]",
      "text/plain": [
       "<Figure size 700x700 with 2 Axes>"
      ]
     },
     "metadata": {},
     "output_type": "display_data"
    }
   ],
   "source": [
    "import seaborn as sns\n",
    "plt.figure(figsize=(7,7))\n",
    "sns.heatmap(cm, annot=True, fmt='d',linewidths=.5, square = True, cmap = 'Blues_r', yticklabels=target_names, xticklabels=target_names)\n",
    "plt.ylabel('Actual label')\n",
    "plt.xlabel('Predicted label')"
   ]
  },
  {
   "cell_type": "code",
   "execution_count": null,
   "metadata": {},
   "outputs": [],
   "source": [
    "''',rotation_range=10,\n",
    "                              zoom_range=0.1,\n",
    "                              width_shift_range=0.1,\n",
    "                              height_shift_range=0.1,\n",
    "                              horizontal_flip=True'''"
   ]
  }
 ],
 "metadata": {
  "kernelspec": {
   "display_name": "Python 3",
   "language": "python",
   "name": "python3"
  },
  "language_info": {
   "codemirror_mode": {
    "name": "ipython",
    "version": 3
   },
   "file_extension": ".py",
   "mimetype": "text/x-python",
   "name": "python",
   "nbconvert_exporter": "python",
   "pygments_lexer": "ipython3",
   "version": "3.8.10"
  }
 },
 "nbformat": 4,
 "nbformat_minor": 2
}
